{
 "cells": [
  {
   "cell_type": "code",
   "execution_count": 2,
   "metadata": {
    "collapsed": false,
    "deletable": true,
    "editable": true
   },
   "outputs": [],
   "source": [
    "import ee\n",
    "import rasterio\n",
    "import numpy as np\n",
    "import pandas as pd\n",
    "from pprint import pprint\n",
    "from IPython.display import display\n",
    "from IPython.display import Image\n",
    "import matplotlib.pyplot as plt\n",
    "from matplotlib import colors\n",
    "import seaborn as sns"
   ]
  },
  {
   "cell_type": "code",
   "execution_count": 3,
   "metadata": {
    "collapsed": true,
    "deletable": true,
    "editable": true
   },
   "outputs": [],
   "source": [
    "ee.Initialize()"
   ]
  },
  {
   "cell_type": "code",
   "execution_count": 4,
   "metadata": {
    "collapsed": false,
    "deletable": true,
    "editable": true
   },
   "outputs": [
    {
     "ename": "ImportError",
     "evalue": "No module named internal.ee_utils",
     "output_type": "error",
     "traceback": [
      "\u001b[0;31m\u001b[0m",
      "\u001b[0;31mImportError\u001b[0mTraceback (most recent call last)",
      "\u001b[0;32m<ipython-input-4-59aee392ac46>\u001b[0m in \u001b[0;36m<module>\u001b[0;34m()\u001b[0m\n\u001b[0;32m----> 1\u001b[0;31m \u001b[0;32mfrom\u001b[0m \u001b[0mchannel_classifier\u001b[0m\u001b[0;34m.\u001b[0m\u001b[0minternal\u001b[0m\u001b[0;34m.\u001b[0m\u001b[0mee_utils\u001b[0m \u001b[0;32mimport\u001b[0m \u001b[0madd_labels\u001b[0m\u001b[0;34m,\u001b[0m \u001b[0mcompute_error_image\u001b[0m\u001b[0;34m,\u001b[0m \u001b[0mget_landsat_images\u001b[0m\u001b[0;34m,\u001b[0m \u001b[0mget_landsat_composite\u001b[0m\u001b[0;34m\u001b[0m\u001b[0m\n\u001b[0m\u001b[1;32m      2\u001b[0m \u001b[0;32mfrom\u001b[0m \u001b[0mchannel_classifier\u001b[0m\u001b[0;34m.\u001b[0m\u001b[0minternal\u001b[0m\u001b[0;34m.\u001b[0m\u001b[0mutils\u001b[0m \u001b[0;32mimport\u001b[0m \u001b[0mdownload_rgb_image\u001b[0m\u001b[0;34m,\u001b[0m \u001b[0mdownload_tiff\u001b[0m\u001b[0;34m\u001b[0m\u001b[0m\n",
      "\u001b[0;31mImportError\u001b[0m: No module named internal.ee_utils"
     ]
    }
   ],
   "source": [
    "from channel_classifier.internal.ee_utils import add_labels, compute_error_image, get_landsat_images, get_landsat_composite\n",
    "from channel_classifier.internal.utils import download_rgb_image, download_tiff"
   ]
  },
  {
   "cell_type": "code",
   "execution_count": null,
   "metadata": {
    "collapsed": true,
    "deletable": true,
    "editable": true
   },
   "outputs": [],
   "source": [
    "def ndvi_l5(image):\n",
    "    return image.normalizedDifference(['B4', 'B3']).rename(['NDVI'])\n",
    "\n",
    "def ndvi_l8(image):\n",
    "    return image.normalizedDifference(['B5', 'B4']).rename(['NDVI'])"
   ]
  },
  {
   "cell_type": "code",
   "execution_count": null,
   "metadata": {
    "collapsed": true,
    "deletable": true,
    "editable": true
   },
   "outputs": [],
   "source": [
    "path, row = [3, 69] # RMDD\n",
    "p1 = (-70.560, -13.025)\n",
    "p2 = (-70.61, -13.080)\n",
    "d = 0.001\n",
    "bbox1 = [p1[0], p1[1], p1[0] + d, p1[1] + d]\n",
    "bbox2 = [p2[0], p2[1], p2[0] + d, p2[1] + d]\n",
    "start_date = '1984-01-01'\n",
    "end_date = '2018-01-01'"
   ]
  },
  {
   "cell_type": "code",
   "execution_count": 5,
   "metadata": {
    "collapsed": false,
    "deletable": true,
    "editable": true
   },
   "outputs": [
    {
     "ename": "NameError",
     "evalue": "name 'bbox1' is not defined",
     "output_type": "error",
     "traceback": [
      "\u001b[0;31m\u001b[0m",
      "\u001b[0;31mNameError\u001b[0mTraceback (most recent call last)",
      "\u001b[0;32m<ipython-input-5-c31e43317750>\u001b[0m in \u001b[0;36m<module>\u001b[0;34m()\u001b[0m\n\u001b[0;32m----> 1\u001b[0;31m \u001b[0mregion\u001b[0m \u001b[0;34m=\u001b[0m \u001b[0mee\u001b[0m\u001b[0;34m.\u001b[0m\u001b[0mGeometry\u001b[0m\u001b[0;34m.\u001b[0m\u001b[0mRectangle\u001b[0m\u001b[0;34m(\u001b[0m\u001b[0mbbox1\u001b[0m\u001b[0;34m)\u001b[0m\u001b[0;34m\u001b[0m\u001b[0m\n\u001b[0m\u001b[1;32m      2\u001b[0m \u001b[0mbackground\u001b[0m \u001b[0;34m=\u001b[0m \u001b[0mee\u001b[0m\u001b[0;34m.\u001b[0m\u001b[0mGeometry\u001b[0m\u001b[0;34m.\u001b[0m\u001b[0mRectangle\u001b[0m\u001b[0;34m(\u001b[0m\u001b[0mbbox2\u001b[0m\u001b[0;34m)\u001b[0m\u001b[0;34m\u001b[0m\u001b[0m\n\u001b[1;32m      3\u001b[0m \u001b[0;34m\u001b[0m\u001b[0m\n\u001b[1;32m      4\u001b[0m \u001b[0;32mdef\u001b[0m \u001b[0mset_mean\u001b[0m\u001b[0;34m(\u001b[0m\u001b[0mimage\u001b[0m\u001b[0;34m)\u001b[0m\u001b[0;34m:\u001b[0m\u001b[0;34m\u001b[0m\u001b[0m\n\u001b[1;32m      5\u001b[0m     \u001b[0md\u001b[0m \u001b[0;34m=\u001b[0m \u001b[0mimage\u001b[0m\u001b[0;34m.\u001b[0m\u001b[0mreduceRegion\u001b[0m\u001b[0;34m(\u001b[0m\u001b[0mee\u001b[0m\u001b[0;34m.\u001b[0m\u001b[0mReducer\u001b[0m\u001b[0;34m.\u001b[0m\u001b[0mmax\u001b[0m\u001b[0;34m(\u001b[0m\u001b[0;34m)\u001b[0m\u001b[0;34m,\u001b[0m \u001b[0mregion\u001b[0m\u001b[0;34m)\u001b[0m\u001b[0;34m\u001b[0m\u001b[0m\n",
      "\u001b[0;31mNameError\u001b[0m: name 'bbox1' is not defined"
     ]
    }
   ],
   "source": [
    "region = ee.Geometry.Rectangle(bbox1)\n",
    "background = ee.Geometry.Rectangle(bbox2)\n",
    "\n",
    "def set_mean(image):\n",
    "    d = image.reduceRegion(ee.Reducer.max(), region)\n",
    "    return image.set(d)\n",
    "  \n",
    "def set_background(image):\n",
    "    d = image.reduceRegion(ee.Reducer.max(), background)\n",
    "    return image.set(d)"
   ]
  },
  {
   "cell_type": "code",
   "execution_count": 19,
   "metadata": {
    "collapsed": false,
    "deletable": true,
    "editable": true
   },
   "outputs": [],
   "source": [
    "images = ee.ImageCollection([])\n",
    "ndvis = ee.ImageCollection([])\n",
    "datasets = ['LANDSAT/LT05/C01/T1_TOA'] #, 'LANDSAT/LE07/C01/T1_TOA', 'LANDSAT/LC08/C01/T1_TOA']\n",
    "functions = [ndvi_l5] #, ndvi_l5, ndvi_l8]\n",
    "for dataset, ndvi in zip(datasets, functions):\n",
    "    x = get_landsat_images(path, row, start_date, end_date, dataset_path=dataset)\n",
    "    x = x.filter(ee.Filter.lt('CLOUD_COVER', 50))\n",
    "    images = ee.ImageCollection(x)\n",
    "    ndvis = images.map(ndvi).map(set_mean)\n",
    "    control = images.map(ndvi).map(set_background)\n",
    "    dates = images.aggregate_array('system:time_start').getInfo()\n",
    "    y1 = ndvis.aggregate_array('NDVI').getInfo()\n",
    "    y2 = control.aggregate_array('NDVI').getInfo()\n",
    "    if len(y1) > 0:\n",
    "        dates = pd.to_datetime(dates, unit='ms')\n",
    "        data1 = pd.DataFrame({'NDVI' : y1}, index=dates)\n",
    "        data2 = pd.DataFrame({'NDVI' : y2}, index=dates)\n",
    "        grouped1 = [group[1].dropna() for group in data1.groupby(pd.TimeGrouper('A'))]\n",
    "        grouped2 = [group[1].dropna() for group in data2.groupby(pd.TimeGrouper('A'))]\n",
    "        #data1 = data1.groupby(pd.TimeGrouper('D')).mean().dropna()\n",
    "        #data2 = data2.groupby(pd.TimeGrouper('D')).mean().dropna()"
   ]
  },
  {
   "cell_type": "code",
   "execution_count": 24,
   "metadata": {
    "collapsed": false,
    "deletable": true,
    "editable": true
   },
   "outputs": [
    {
     "data": {
      "text/plain": [
       "[<matplotlib.text.Text at 0x7f1eca854ed0>,\n",
       " <matplotlib.text.Text at 0x7f1ec880a4d0>]"
      ]
     },
     "execution_count": 24,
     "metadata": {},
     "output_type": "execute_result"
    },
    {
     "data": {
      "image/png": "[encoded data removed]",
      "text/plain": [
       "<matplotlib.figure.Figure at 0x7f1eced57050>"
      ]
     },
     "metadata": {},
     "output_type": "display_data"
    }
   ],
   "source": [
    "test = data1\n",
    "before = test.ix[test.index.year <= 1993]\n",
    "after = test.ix[test.index.year > 1993]\n",
    "d = sns.violinplot(data=[before.NDVI, after.NDVI])\n",
    "ax = plt.gca()\n",
    "ax.set_ylabel('Average NDVI')\n",
    "ax.set_xticklabels(['Before 1993', 'After 1993'])"
   ]
  },
  {
   "cell_type": "code",
   "execution_count": 1,
   "metadata": {
    "collapsed": false,
    "deletable": true,
    "editable": true
   },
   "outputs": [
    {
     "ename": "NameError",
     "evalue": "name 'plt' is not defined",
     "output_type": "error",
     "traceback": [
      "\u001b[0;31m\u001b[0m",
      "\u001b[0;31mNameError\u001b[0mTraceback (most recent call last)",
      "\u001b[0;32m<ipython-input-1-442f97ae2d7d>\u001b[0m in \u001b[0;36m<module>\u001b[0;34m()\u001b[0m\n\u001b[0;32m----> 1\u001b[0;31m \u001b[0mfig\u001b[0m\u001b[0;34m,\u001b[0m \u001b[0max\u001b[0m \u001b[0;34m=\u001b[0m \u001b[0mplt\u001b[0m\u001b[0;34m.\u001b[0m\u001b[0msubplots\u001b[0m\u001b[0;34m(\u001b[0m\u001b[0;36m1\u001b[0m\u001b[0;34m,\u001b[0m\u001b[0;36m1\u001b[0m\u001b[0;34m)\u001b[0m\u001b[0;34m\u001b[0m\u001b[0m\n\u001b[0m\u001b[1;32m      2\u001b[0m \u001b[0mn_years\u001b[0m \u001b[0;34m=\u001b[0m \u001b[0mlen\u001b[0m\u001b[0;34m(\u001b[0m\u001b[0mgrouped1\u001b[0m\u001b[0;34m)\u001b[0m\u001b[0;34m\u001b[0m\u001b[0m\n\u001b[1;32m      3\u001b[0m \u001b[0mcycle\u001b[0m \u001b[0;34m=\u001b[0m \u001b[0;34m[\u001b[0m\u001b[0mplt\u001b[0m\u001b[0;34m.\u001b[0m\u001b[0mcm\u001b[0m\u001b[0;34m.\u001b[0m\u001b[0mcoolwarm\u001b[0m\u001b[0;34m(\u001b[0m\u001b[0mi\u001b[0m\u001b[0;34m)\u001b[0m \u001b[0;32mfor\u001b[0m \u001b[0mi\u001b[0m \u001b[0;32min\u001b[0m \u001b[0mnp\u001b[0m\u001b[0;34m.\u001b[0m\u001b[0mlinspace\u001b[0m\u001b[0;34m(\u001b[0m\u001b[0;36m0\u001b[0m\u001b[0;34m,\u001b[0m \u001b[0;36m1\u001b[0m\u001b[0;34m,\u001b[0m \u001b[0mint\u001b[0m\u001b[0;34m(\u001b[0m\u001b[0mn_years\u001b[0m \u001b[0;34m/\u001b[0m \u001b[0;36m5\u001b[0m\u001b[0;34m)\u001b[0m \u001b[0;34m+\u001b[0m \u001b[0;36m1\u001b[0m\u001b[0;34m)\u001b[0m\u001b[0;34m]\u001b[0m\u001b[0;34m\u001b[0m\u001b[0m\n\u001b[1;32m      4\u001b[0m \u001b[0max\u001b[0m\u001b[0;34m.\u001b[0m\u001b[0mset_color_cycle\u001b[0m\u001b[0;34m(\u001b[0m\u001b[0mcycle\u001b[0m\u001b[0;34m)\u001b[0m\u001b[0;34m\u001b[0m\u001b[0m\n\u001b[1;32m      5\u001b[0m \u001b[0;32mfor\u001b[0m \u001b[0mdataset\u001b[0m \u001b[0;32min\u001b[0m \u001b[0mgrouped1\u001b[0m\u001b[0;34m:\u001b[0m\u001b[0;34m\u001b[0m\u001b[0m\n",
      "\u001b[0;31mNameError\u001b[0m: name 'plt' is not defined"
     ]
    }
   ],
   "source": [
    "fig, ax = plt.subplots(1,1)\n",
    "n_years = len(grouped1)\n",
    "cycle = [plt.cm.coolwarm(i) for i in np.linspace(0, 1, int(n_years / 5) + 1)]\n",
    "ax.set_color_cycle(cycle)\n",
    "for dataset in grouped1:\n",
    "    year = dataset.index.year[0]\n",
    "    if year % 5 == 0:\n",
    "        label = year\n",
    "        ax.plot(dataset.index.dayofyear, dataset['NDVI'], marker='s', lw=2, label=label)\n",
    "ax.set_xlim([1, 365])\n",
    "plt.legend()"
   ]
  },
  {
   "cell_type": "code",
   "execution_count": null,
   "metadata": {
    "collapsed": false,
    "deletable": true,
    "editable": true
   },
   "outputs": [],
   "source": [
    "fig, ax = plt.subplots(1,1)\n",
    "n_years = len(grouped2)\n",
    "cycle = [plt.cm.coolwarm(i) for i in np.linspace(0, 1, int(n_years / 5) + 1)]\n",
    "ax.set_color_cycle(cycle)\n",
    "for dataset in grouped2:\n",
    "    year = dataset.index.year[0]\n",
    "    if year % 5 == 0:\n",
    "        label = year\n",
    "        ax.plot(dataset.index.dayofyear, dataset['NDVI'], marker='s', lw=2, label=label)\n",
    "ax.set_xlim([1, 365])\n",
    "plt.legend()"
   ]
  },
  {
   "cell_type": "code",
   "execution_count": 22,
   "metadata": {
    "collapsed": false,
    "deletable": true,
    "editable": true
   },
   "outputs": [],
   "source": []
  },
  {
   "cell_type": "code",
   "execution_count": null,
   "metadata": {
    "collapsed": true,
    "deletable": true,
    "editable": true
   },
   "outputs": [],
   "source": []
  }
 ],
 "metadata": {
  "kernelspec": {
   "display_name": "Python 2",
   "language": "python",
   "name": "python2"
  },
  "language_info": {
   "codemirror_mode": {
    "name": "ipython",
    "version": 2
   },
   "file_extension": ".py",
   "mimetype": "text/x-python",
   "name": "python",
   "nbconvert_exporter": "python",
   "pygments_lexer": "ipython2",
   "version": "2.7.12"
  }
 },
 "nbformat": 4,
 "nbformat_minor": 2
}
